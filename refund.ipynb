{
 "cells": [
  {
   "cell_type": "code",
   "execution_count": 2,
   "metadata": {},
   "outputs": [
    {
     "name": "stdout",
     "output_type": "stream",
     "text": [
      "{\"id\":\"aa51fd18-f204-4d36-a034-b1b7039fd6cc\",\"reference\":\"YCDQWXTMM_REFUND\",\"status\":\"000001\",\"message\":\"Request received successfully\",\"receiptNumber\":null,\"commandId\":\"CDeposit\",\"serviceProviderId\":\"MPESA\",\"datetimeCreated\":\"2025-01-04 16:40:14.439 +0000\",\"datetimeLastModified\":\"2025-01-04 16:40:14.439 +0000\",\"datetimeCompleted\":null,\"requestParameters\":[{\"id\":\"amount\",\"value\":\"550\",\"label\":\"Amount\"},{\"id\":\"accountNumber\",\"value\":\"254700221171\",\"label\":\"AccountNumber\"}],\"referenceParameters\":[{\"id\":\"resultUrl\",\"value\":\"https://webhook.site/17c8a6fc-2376-45cb-81c9-20f167b4fe62\"}],\"resultParameters\":null}\n"
     ]
    }
   ],
   "source": [
    "import requests\n",
    "\n",
    "REQUEST_URL=f\"https://api-v2.tanda.africa/io/v2/organizations/d9c5a8b1-69df-4947-9e68-d712e8dbafae/requests\"\n",
    "\n",
    "url = f\"https://api-v2.tanda.africa/accounts/v1/oauth/token\"\n",
    "\n",
    "payload = {\n",
    "    \"grant_type\": \"client_credentials\", \n",
    "    \"client_id\":\"17ecfc5b-113a-4644-8e20-abeb964d794d\", \n",
    "    \"client_secret\":\"sL9yOKv4eCgHFIQAoLMOaIJJ\" \n",
    "}\n",
    "headers = {\n",
    "    \"accept\": \"application/json\",\n",
    "    \"content-type\": \"application/x-www-form-urlencoded\"\n",
    "}\n",
    "\n",
    "tokenRes = requests.post(url, data=payload, headers=headers)\n",
    "\n",
    "commandID= \"CDeposit\"\n",
    "\n",
    "requestParameters=[\n",
    "        {\n",
    "            \"id\": \"amount\",\n",
    "            \"value\": \"9000\",\n",
    "            \"label\": \"Amount\"\n",
    "        },\n",
    "        {\n",
    "            \"id\": \"accountNumber\",\n",
    "            \"value\":  '254795366485',\n",
    "            \"label\": \"AccountNumber\"\n",
    "    }\n",
    "            \n",
    "]\n",
    "\n",
    "payload = {\n",
    "    \"commandId\": commandID,\n",
    "    \"serviceProviderId\": \"MPESA\",\n",
    "    \"requestParameters\": requestParameters,\n",
    "    \"referenceParameters\":[\n",
    "        {\n",
    "            \"id\":\"resultUrl\",\n",
    "            \"value\":f\"https://webhook.site/17c8a6fc-2376-45cb-81c9-20f167b4fe62\",\n",
    "        }\n",
    "    ],\n",
    "    \"reference\":\"BFF8PEAD\"\n",
    "}\n",
    "headers = {\n",
    "    \"accept\": \"application/json\",\n",
    "    \"content-type\": \"application/json\",\n",
    "    \"authorization\": f\"Bearer {tokenRes.json()['access_token']}\"\n",
    "}\n",
    "\n",
    "response = requests.post(REQUEST_URL, json=payload, headers=headers)\n",
    "\n",
    "print(response.text)\n",
    "\n",
    "    "
   ]
  }
 ],
 "metadata": {
  "kernelspec": {
   "display_name": "env",
   "language": "python",
   "name": "python3"
  },
  "language_info": {
   "codemirror_mode": {
    "name": "ipython",
    "version": 3
   },
   "file_extension": ".py",
   "mimetype": "text/x-python",
   "name": "python",
   "nbconvert_exporter": "python",
   "pygments_lexer": "ipython3",
   "version": "3.12.7"
  }
 },
 "nbformat": 4,
 "nbformat_minor": 2
}
